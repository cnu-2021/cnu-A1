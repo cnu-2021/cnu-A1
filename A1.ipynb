{
 "cells": [
  {
   "cell_type": "markdown",
   "metadata": {},
   "source": [
    "# Assignment A1 [35 marks]\n",
    "\n"
   ]
  },
  {
   "cell_type": "markdown",
   "metadata": {},
   "source": [
    "The assignment consists of 4 exercises. Each exercise may contain coding and/or discussion questions.\n",
    "- Type your **code** in the **code cells** provided below each question.\n",
    "- For **discussion** questions, use the **Markdown cells** provided below each question, indicated by 📝. Double-click these cells to edit them, and run them to display your Markdown-formatted text. Please refer to the Week 1 tutorial notebook for Markdown syntax."
   ]
  },
  {
   "cell_type": "markdown",
   "metadata": {},
   "source": [
    "---\n",
    "## Question 1: Numerical Linear Algebra [8 marks]\n",
    "\n",
    "**1.1** Using the method of your choice, solve the linear system $Ax = b$ with\n",
    "\n",
    "$$ A = \\begin{pmatrix}\n",
    "          1 &  1 & 0 & 1  \\\\ \n",
    "         -1 &  0 & 1 & 1  \\\\ \n",
    "          0 & -1 & 0 & -1  \\\\ \n",
    "          1 & 0 & 1 & 0 \n",
    "        \\end{pmatrix}\n",
    "        \\qquad \\text{and} \\qquad \n",
    "    b = \\begin{pmatrix}\n",
    "           5.2 \\cr 0.1 \\cr 1.9 \\cr 0\n",
    "        \\end{pmatrix},\n",
    "$$\n",
    "\n",
    "and compute the residual norm $r = \\|Ax-b\\|_2$. Display the value of $r$ in a clear and easily readable manner.\n",
    "\n",
    "**[2 marks]**"
   ]
  },
  {
   "cell_type": "code",
   "execution_count": null,
   "metadata": {},
   "outputs": [],
   "source": []
  },
  {
   "cell_type": "markdown",
   "metadata": {},
   "source": [
    "**1.2** Repeat the same calculations for the matrix\n",
    "\n",
    "$$ A = \\begin{pmatrix}\n",
    "          a &  1 & 0 & 1  \\\\ \n",
    "         -1 &  0 & 1 & 1  \\\\ \n",
    "          0 & -1 & 0 & -1  \\\\ \n",
    "          1 & 0 & 1 & 0 \n",
    "        \\end{pmatrix}\n",
    "        \\qquad \\text{with} \\qquad a \\in \\{10^{-8}, 10^{-10}, 10^{-12}\\}. \n",
    "$$\n",
    "\n",
    "Display the value of $r$ for each value of $a$, and avoid repeating (copy+pasting) code.\n",
    "\n",
    "**[3 marks]**"
   ]
  },
  {
   "cell_type": "code",
   "execution_count": null,
   "metadata": {},
   "outputs": [],
   "source": []
  },
  {
   "cell_type": "markdown",
   "metadata": {},
   "source": [
    "**1.3** Summarise and explain your observations in a discussion of no more than $250$ words.\n",
    "\n",
    "**[3 marks]**"
   ]
  },
  {
   "cell_type": "markdown",
   "metadata": {},
   "source": [
    "📝 ***Discussion for question 1.3***\n",
    "\n",
    "\n"
   ]
  },
  {
   "cell_type": "markdown",
   "metadata": {},
   "source": [
    "---\n",
    "## Question 2: Sums [10 marks]\n",
    "\n",
    "Consider the sum\n",
    "\n",
    "$$\n",
    "S_N = \\sum_{n=1}^N \\frac{2n+1}{n^2(n+1)^2}.\n",
    "$$\n",
    "\n",
    "**2.1** Write a function `sum_S()` which takes 2 input arguments, a positive integer `N` and a string `direction`, and computes the sum $S_N$ **iteratively** (i.e. using a loop):\n",
    "- in the direction of increasing $n$ if `direction` is `'up'`,\n",
    "- in the direction of decreasing $n$ if `direction` is `'down'`.\n",
    "\n",
    "For instance, to calculate $S_{10}$ in the direction of decreasing $n$, you would call your function using `sum_S(10, 'down')`.\n",
    "\n",
    "**[3 marks]**"
   ]
  },
  {
   "cell_type": "code",
   "execution_count": null,
   "metadata": {},
   "outputs": [],
   "source": []
  },
  {
   "cell_type": "markdown",
   "metadata": {},
   "source": [
    "**2.2** The sum $S_N$ has the closed-form expression $S_N = 1-\\frac{1}{(N+1)^2}$. We assume that we can compute $S_N$ using this expression without significant loss of precision, i.e. that we can use this expression to obtain a \"ground truth\" value for $S_N$.\n",
    "\n",
    "Using your function `sum_S()`, compute $S_N$ iteratively in both directions, for 10 different values of $N$, linearly spaced, between $10^3$ and $10^6$ (inclusive).\n",
    "\n",
    "For each value of $N$, compare the results in each direction with the closed-form expression. Present your results graphically, in a clear and understandable manner.\n",
    "\n",
    "**[4 marks]**"
   ]
  },
  {
   "cell_type": "code",
   "execution_count": null,
   "metadata": {},
   "outputs": [],
   "source": []
  },
  {
   "cell_type": "markdown",
   "metadata": {},
   "source": [
    "**2.3** Describe and explain your findings in no more that $250$ words. Which direction of summation provides the more accurate result? Why?\n",
    "\n",
    "**[3 marks]**"
   ]
  },
  {
   "cell_type": "markdown",
   "metadata": {},
   "source": [
    "📝 ***Discussion for question 2.3***\n",
    "\n",
    "\n"
   ]
  },
  {
   "cell_type": "markdown",
   "metadata": {},
   "source": [
    "---\n",
    "## Question 3: Numerical Integration [10 marks]\n",
    "\n",
    "For integer $k \\neq 0$ consider the integral \n",
    "\n",
    "$$\n",
    "I(k) = \\int_0^{2\\pi}  x^4 \\cos{k x} \\ dx = \\frac{32\\pi^3}{k^2} - \\frac{48\\pi}{k^4} \\ .\n",
    "$$\n",
    "\n",
    "**3.1** Write a function `simpson_I()` which takes 2 input arguments, `k` and `N`, and implements Simpson's rule to compute and return an approximation of $I(k)$, partitioning the interval $[0, 2\\pi]$ into $N$ sub-intervals of equal width.\n",
    "\n",
    "**[2 marks]**"
   ]
  },
  {
   "cell_type": "code",
   "execution_count": null,
   "metadata": {},
   "outputs": [],
   "source": []
  },
  {
   "cell_type": "markdown",
   "metadata": {},
   "source": [
    "**3.2** For $k = 1$, and for $\\varepsilon \\in \\{10^{-n} \\ |\\  n \\in \\mathbb{N}, 3 \\leqslant n \\leqslant 8\\}$, determine the number $N_{\\text{min}}$ of partitions needed to get the value of the integral $I(1)$ correctly to within $\\varepsilon$. \n",
    "\n",
    "**[2 marks]**"
   ]
  },
  {
   "cell_type": "code",
   "execution_count": null,
   "metadata": {},
   "outputs": [],
   "source": []
  },
  {
   "cell_type": "markdown",
   "metadata": {},
   "source": [
    "**3.3** Repeat your calculations from **3.2** for $k \\in \\{2^{n}\\ |\\ n \\in \\mathbb{N}, n \\leqslant 6\\}$. \n",
    "\n",
    "**[2 marks]**"
   ]
  },
  {
   "cell_type": "code",
   "execution_count": null,
   "metadata": {},
   "outputs": [],
   "source": []
  },
  {
   "cell_type": "markdown",
   "metadata": {},
   "source": [
    "**3.3** Present your results graphically by plotting \n",
    "\n",
    "(a) the number of terms $N_{\\text{min}}$ against $\\varepsilon$ for fixed $k$, \n",
    "\n",
    "(b) the number of terms $N_{\\text{min}}$ against $k$ for fixed $\\varepsilon$.\n",
    "\n",
    "You should format the plots so that the data presentation is clear and easy to understand.\n",
    "\n",
    "**[2 marks]**"
   ]
  },
  {
   "cell_type": "code",
   "execution_count": null,
   "metadata": {},
   "outputs": [],
   "source": []
  },
  {
   "cell_type": "markdown",
   "metadata": {},
   "source": [
    "**3.4** Discuss, with reference to your plot from 3.3, your results. Your answer should be no more than $250$ words.\n",
    "\n",
    "**[2 marks]**"
   ]
  },
  {
   "cell_type": "markdown",
   "metadata": {},
   "source": [
    "📝 ***Discussion for question 3.4***\n",
    "\n",
    "\n"
   ]
  },
  {
   "cell_type": "markdown",
   "metadata": {},
   "source": [
    "---\n",
    "## Question 4: Numerical Derivatives [7 marks]\n",
    "\n",
    "Derivatives can be approximated by finite differences in several ways, for instance\n",
    "\n",
    "\\begin{align*}\n",
    "        \\frac{df}{dx} & \\approx \\frac{f(x+h) - f(x)}{h} \\\\\n",
    "        \\frac{df}{dx} & \\approx \\frac{f(x) - f(x-h)}{h}  \\\\\n",
    "        \\frac{df}{dx} & \\approx \\frac{f(x+h) - f(x-h)}{2h} \\ . \n",
    "\\end{align*}\n",
    "\n",
    "Assuming $f$ to be differentiable, in the limit $h \\to 0$, all three expressions are equivalent and exact, but for finite $h$ there are differences. Further discrepancies also arise when using finite precision arithmetic.\n",
    "\n",
    "**4.1**\n",
    "Estimate numerically the derivative of $f(x) = \\cos(x)$ at $x = 1$ using the three expressions given above and different step sizes $h$. Use at least 50 logarithmically spaced values $h \\in [10^{-16}, 10^{-1}]$.\n",
    "\n",
    "**[2 marks]**"
   ]
  },
  {
   "cell_type": "code",
   "execution_count": null,
   "metadata": {},
   "outputs": [],
   "source": []
  },
  {
   "cell_type": "markdown",
   "metadata": {},
   "source": [
    "**4.2**\n",
    "Display the absolute difference between the numerical results and the\n",
    "exact value of the derivative, against $h$ in a doubly logarithmic plot. \n",
    "You should format the plot so that the data presentation is clear and easy to understand.\n",
    "\n",
    "**[2 marks]**"
   ]
  },
  {
   "cell_type": "code",
   "execution_count": null,
   "metadata": {},
   "outputs": [],
   "source": []
  },
  {
   "cell_type": "markdown",
   "metadata": {},
   "source": [
    "**4.3**\n",
    "Describe and interpret your results in no more than 250 words.\n",
    "\n",
    "*Hint: run the code below.*\n",
    "\n",
    "**[3 marks]**"
   ]
  },
  {
   "cell_type": "code",
   "execution_count": null,
   "metadata": {},
   "outputs": [],
   "source": [
    "h = 1e-14\n",
    "print(1 + h - 1)\n",
    "print((1 + h - 1)/h)"
   ]
  },
  {
   "cell_type": "markdown",
   "metadata": {},
   "source": [
    "📝 ***Discussion for question 4.3***\n",
    "\n",
    "\n"
   ]
  }
 ],
 "metadata": {
  "kernelspec": {
   "display_name": "Python 3",
   "language": "python",
   "name": "python3"
  },
  "language_info": {
   "codemirror_mode": {
    "name": "ipython",
    "version": 3
   },
   "file_extension": ".py",
   "mimetype": "text/x-python",
   "name": "python",
   "nbconvert_exporter": "python",
   "pygments_lexer": "ipython3",
   "version": "3.7.6"
  }
 },
 "nbformat": 4,
 "nbformat_minor": 4
}
